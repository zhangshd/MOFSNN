{
 "cells": [
  {
   "cell_type": "code",
   "execution_count": 1,
   "metadata": {},
   "outputs": [
    {
     "name": "stdout",
     "output_type": "stream",
     "text": [
      "The history saving thread hit an unexpected error (DatabaseError('database disk image is malformed')).History will not be written to the database.\n"
     ]
    }
   ],
   "source": [
    "%load_ext autoreload\n",
    "%autoreload 2\n",
    "\n",
    "import pandas as pd\n",
    "import numpy as np\n",
    "from pathlib import Path\n",
    "from CGCNN_MT.module.module_utils import calculate_lsv_from_tree, calculate_lse_from_tree\n",
    "from sklearn.preprocessing import MinMaxScaler\n",
    "from sklearn.neighbors import BallTree\n",
    "import pickle"
   ]
  },
  {
   "cell_type": "code",
   "execution_count": 2,
   "metadata": {},
   "outputs": [],
   "source": [
    "log_dir = \"./CGCNN_MT/evaluation/TSD_SSD_WS24_water_WS24_water4_WS24_acid_WS24_base_WS24_boiling_seed42_att_cgcnn@version_43\"\n",
    "log_dir = Path(log_dir)\n",
    "latent_feas = {}\n",
    "tasks = [\"TSD\", \"SSD\", \"WS24_water\", \"WS24_water4\", \"WS24_acid\", \"WS24_base\", \"WS24_boiling\"]\n",
    "labels = {}\n",
    "for task in tasks:\n",
    "    for split in [\n",
    "        'train', \n",
    "        'val', \n",
    "        'test',\n",
    "        ]:\n",
    "        latent_fea = np.load(log_dir / f\"{split}_last_layer_fea_{task}.npz\")\n",
    "        latent_feas[f\"{task}_{split}\"] = latent_fea[list(latent_fea.keys())[0]]\n",
    "        res_df = pd.read_csv(log_dir / f\"{split}_results_{task}.csv\")\n",
    "        labels[f\"{task}_{split}\"] = res_df['GroundTruth'].values"
   ]
  },
  {
   "cell_type": "code",
   "execution_count": 5,
   "metadata": {},
   "outputs": [],
   "source": [
    "uncertainty_trees = {}\n",
    "k = 5\n",
    "for task in tasks:\n",
    "    latent_vec_train = latent_feas[f\"{task}_train\"]\n",
    "    latent_vec_tree = BallTree(latent_vec_train, metric='minkowski', p=2)  ## metric='euclidean'\n",
    "    dist_train, ind_train = latent_vec_tree.query(latent_vec_train, k=k, dualtree=True)\n",
    "    avg_dist_traintrian = dist_train.mean(axis=None)\n",
    "    tree_dic = {'tree': latent_vec_tree, \n",
    "                'avg_dist_traintrian': avg_dist_traintrian, \n",
    "                'labels_train': labels[f\"{task}_train\"],\n",
    "                'k': k\n",
    "                }\n",
    "    if task == \"TSD\":\n",
    "        uncertaintys = calculate_lsv_from_tree(tree_dic, latent_feas[f\"{task}_test\"], k=tree_dic[\"k\"])\n",
    "    else:\n",
    "        uncertaintys = calculate_lse_from_tree(tree_dic, latent_feas[f\"{task}_test\"], k=tree_dic[\"k\"])\n",
    "    scaler = MinMaxScaler()\n",
    "    scaler.fit(uncertaintys.reshape(-1, 1))\n",
    "    tree_dic.update({\"scaler\": scaler})\n",
    "    uncertainty_trees[task] = tree_dic"
   ]
  },
  {
   "cell_type": "code",
   "execution_count": 6,
   "metadata": {},
   "outputs": [],
   "source": [
    "with open(log_dir/\"uncertainty_trees.pkl\", \"wb\") as f:\n",
    "    pickle.dump(uncertainty_trees, f)"
   ]
  },
  {
   "cell_type": "code",
   "execution_count": null,
   "metadata": {},
   "outputs": [],
   "source": []
  }
 ],
 "metadata": {
  "kernelspec": {
   "display_name": "mofmthnn",
   "language": "python",
   "name": "python3"
  },
  "language_info": {
   "codemirror_mode": {
    "name": "ipython",
    "version": 3
   },
   "file_extension": ".py",
   "mimetype": "text/x-python",
   "name": "python",
   "nbconvert_exporter": "python",
   "pygments_lexer": "ipython3",
   "version": "3.9.19"
  }
 },
 "nbformat": 4,
 "nbformat_minor": 2
}
