{
 "cells": [
  {
   "cell_type": "code",
   "execution_count": 1,
   "metadata": {},
   "outputs": [
    {
     "name": "stdout",
     "output_type": "stream",
     "text": [
      "The history saving thread hit an unexpected error (DatabaseError('database disk image is malformed')).History will not be written to the database.\n"
     ]
    }
   ],
   "source": [
    "import pandas as pd\n",
    "import numpy as np\n",
    "import matplotlib.pyplot as plt\n",
    "import seaborn as sns\n",
    "from pathlib import Path\n",
    "from sklearn.manifold import TSNE\n",
    "from sklearn.decomposition import PCA\n",
    "from matplotlib.colors import Normalize\n",
    "from CGCNN_MT.predict import main as predict_main\n",
    "# Load the data"
   ]
  },
  {
   "cell_type": "code",
   "execution_count": 2,
   "metadata": {},
   "outputs": [],
   "source": [
    "def plot_tsne_for_task_by_targets(task, latent_feas, targets, targets_map, fig_file=None, figsize=(10, 8), size=10, **kwargs):\n",
    "    all_latent_feas = []\n",
    "    all_targets = []\n",
    "    all_splits = []\n",
    "\n",
    "    # Concatenate all latent features and targets for the task\n",
    "    for split in ['train', 'val', 'test', \"external_test\"]:\n",
    "        key = f\"{task}_{split}\"\n",
    "        if key in latent_feas:\n",
    "            all_latent_feas.append(latent_feas[key])\n",
    "            all_targets.append(targets[key])\n",
    "            all_splits.extend([split] * len(latent_feas[key]))\n",
    "\n",
    "    all_latent_feas = np.concatenate(all_latent_feas, axis=0)\n",
    "    all_targets = np.concatenate(all_targets, axis=0)\n",
    "\n",
    "    # Perform TSNE\n",
    "    tsne = TSNE(n_components=2, random_state=42)\n",
    "    tsne_results = tsne.fit_transform(all_latent_feas)\n",
    "\n",
    "    # Create a DataFrame for visualization\n",
    "    tsne_df = pd.DataFrame(tsne_results, columns=['TSNE1', 'TSNE2'])\n",
    "    tsne_df['Target'] = all_targets\n",
    "    tsne_df['Split'] = all_splits\n",
    "    tsne_df['Size'] = [size] * len(tsne_df)\n",
    "\n",
    "    # Determine if the task is classification or regression\n",
    "    unique_targets = np.unique(all_targets)\n",
    "    is_classification = len(unique_targets) < 20\n",
    "\n",
    "    # Plotting\n",
    "    plt.figure(figsize=figsize)\n",
    "\n",
    "    if is_classification:\n",
    "        tsne_df['Target'] = tsne_df['Target'].apply(lambda x: targets_map[task][int(x)])\n",
    "        sns.scatterplot(\n",
    "            x=\"TSNE1\", y=\"TSNE2\",\n",
    "            hue=\"Target\",\n",
    "            style=\"Target\",\n",
    "            sizes=\"Size\",\n",
    "            palette=sns.color_palette(\"hsv\", len(unique_targets), desat=0.6),\n",
    "            data=tsne_df,\n",
    "            legend=\"full\",\n",
    "            alpha=kwargs.get('alpha', 0.5),\n",
    "            markers=True\n",
    "        )\n",
    "    else:\n",
    "        norm = Normalize(vmin=all_targets.min(), vmax=all_targets.max())\n",
    "        cmap = plt.get_cmap('viridis')\n",
    "        scatter = plt.scatter(\n",
    "            tsne_df['TSNE1'], tsne_df['TSNE2'],\n",
    "            c=all_targets, cmap=cmap, norm=norm,\n",
    "            alpha=kwargs.get('alpha', 0.5)\n",
    "        )\n",
    "        plt.colorbar(scatter, label='Target')\n",
    "\n",
    "    plt.title(f\"TSNE visualization of last-layer features for task: {task} (by targets)\")\n",
    "    if fig_file is not None:\n",
    "        plt.savefig(fig_file, dpi=300, bbox_inches='tight')\n",
    "    plt.show()"
   ]
  },
  {
   "cell_type": "markdown",
   "metadata": {},
   "source": [
    "### Generating the last-layer features for training set, validation set, and test set"
   ]
  },
  {
   "cell_type": "code",
   "execution_count": 5,
   "metadata": {},
   "outputs": [
    {
     "name": "stderr",
     "output_type": "stream",
     "text": [
      "/opt/share/miniconda3/envs/mofmthnn/lib/python3.9/site-packages/lightning_fabric/plugins/environments/slurm.py:204: The `srun` command is available on your system but is not used. HINT: If your intention is to run Lightning on SLURM, prepend your python command with `srun` like so: srun python /opt/share/miniconda3/envs/mofmthnn/lib/python3.9/si ...\n",
      "GPU available: True (cuda), used: True\n",
      "TPU available: False, using: 0 TPU cores\n",
      "IPU available: False, using: 0 IPUs\n",
      "HPU available: False, using: 0 HPUs\n",
      "/opt/share/miniconda3/envs/mofmthnn/lib/python3.9/site-packages/lightning_fabric/plugins/environments/slurm.py:204: The `srun` command is available on your system but is not used. HINT: If your intention is to run Lightning on SLURM, prepend your python command with `srun` like so: srun python /opt/share/miniconda3/envs/mofmthnn/lib/python3.9/si ...\n",
      "LOCAL_RANK: 0 - CUDA_VISIBLE_DEVICES: [1]\n"
     ]
    },
    {
     "name": "stdout",
     "output_type": "stream",
     "text": [
      "task_types:  ['regression', 'classification', 'classification', 'classification_4', 'classification', 'classification', 'classification']\n",
      "Model hyperparameters:////////////////////////////////////////////////////////////\n",
      "batch_size: 32\n",
      "num_workers: 2\n",
      "random_seed: 42\n",
      "accelerator: gpu\n",
      "devices: 1\n",
      "max_epochs: 500\n",
      "auto_lr_bs_find: False\n",
      "progress_bar: False\n",
      "focal_alpha: 0.25\n",
      "focal_gamma: 2\n",
      "optim: adam\n",
      "lr: 0.001\n",
      "weight_decay: 1e-05\n",
      "momentum: 0.9\n",
      "optim_config: fine\n",
      "group_lr: True\n",
      "lr_mult: 1\n",
      "lr_scheduler: reduce_on_plateau\n",
      "lr_decay_steps: 20\n",
      "lr_decay_rate: 0.8\n",
      "lr_decay_min_lr: 1e-06\n",
      "max_steps: -1\n",
      "decay_power: 1\n",
      "warmup_steps: 2\n",
      "load_best: False\n",
      "log_dir: logs\n",
      "patience: 50\n",
      "min_delta: 0.001\n",
      "monitor: val_Metric\n",
      "mode: max\n",
      "eval_freq: 10\n",
      "max_num_nbr: 10\n",
      "radius: 8\n",
      "dmin: 0\n",
      "step: 0.2\n",
      "use_cell_params: True\n",
      "use_extra_fea: False\n",
      "augment: False\n",
      "model_name: att_cgcnn\n",
      "atom_fea_len: 144\n",
      "extra_fea_len: 28\n",
      "h_fea_len: 144\n",
      "n_conv: 4\n",
      "n_h: 8\n",
      "att_S: 64\n",
      "dropout_prob: 0.55\n",
      "att_pooling: False\n",
      "task_norm: True\n",
      "dwa_temp: 2.0\n",
      "dwa_alpha: 0.8\n",
      "atom_layer_norm: True\n",
      "task_att_type: self\n",
      "data_dir: ./CGCNN_MT/data\n",
      "dl_sampler: random\n",
      "loss_aggregation: fixed_weight_sum\n",
      "model_cfg: att_cgcnn\n",
      "max_graph_len: 200\n",
      "reconstruct: False\n",
      "task_cfg: tsd_ssd_ws24\n",
      "pruning: False\n",
      "orig_extra_fea_len: 6\n",
      "orig_atom_fea_len: 92\n",
      "nbr_fea_len: 41\n",
      "strategy: auto\n",
      "Model hyperparameters:////////////////////////////////////////////////////////////\n",
      "Predicting TSD...\n",
      "prop_cols: ['Label']\n"
     ]
    },
    {
     "data": {
      "application/vnd.jupyter.widget-view+json": {
       "model_id": "36046ee54d8043199e79b551105df3a4",
       "version_major": 2,
       "version_minor": 0
      },
      "text/plain": [
       "Predicting: |          | 0/? [00:00<?, ?it/s]"
      ]
     },
     "metadata": {},
     "output_type": "display_data"
    },
    {
     "name": "stdout",
     "output_type": "stream",
     "text": [
      "(501,) (501,)\n",
      "TSD/val_R2Score: 0.4820, TSD/val_MeanAbsoluteError: 45.6930\n"
     ]
    },
    {
     "name": "stderr",
     "output_type": "stream",
     "text": [
      "/opt/share/miniconda3/envs/mofmthnn/lib/python3.9/site-packages/lightning_fabric/plugins/environments/slurm.py:204: The `srun` command is available on your system but is not used. HINT: If your intention is to run Lightning on SLURM, prepend your python command with `srun` like so: srun python /opt/share/miniconda3/envs/mofmthnn/lib/python3.9/si ...\n",
      "GPU available: True (cuda), used: True\n",
      "TPU available: False, using: 0 TPU cores\n",
      "IPU available: False, using: 0 IPUs\n",
      "HPU available: False, using: 0 HPUs\n",
      "/opt/share/miniconda3/envs/mofmthnn/lib/python3.9/site-packages/lightning_fabric/plugins/environments/slurm.py:204: The `srun` command is available on your system but is not used. HINT: If your intention is to run Lightning on SLURM, prepend your python command with `srun` like so: srun python /opt/share/miniconda3/envs/mofmthnn/lib/python3.9/si ...\n",
      "LOCAL_RANK: 0 - CUDA_VISIBLE_DEVICES: [1]\n"
     ]
    },
    {
     "name": "stdout",
     "output_type": "stream",
     "text": [
      "Metrics saved to CGCNN_MT/evaluation/TSD_SSD_WS24_water_WS24_water4_WS24_acid_WS24_base_WS24_boiling_seed42_att_cgcnn@version_43/val_metrics.csv\n",
      "task_types:  ['regression', 'classification', 'classification', 'classification_4', 'classification', 'classification', 'classification']\n",
      "Model hyperparameters:////////////////////////////////////////////////////////////\n",
      "batch_size: 32\n",
      "num_workers: 2\n",
      "random_seed: 42\n",
      "accelerator: gpu\n",
      "devices: 1\n",
      "max_epochs: 500\n",
      "auto_lr_bs_find: False\n",
      "progress_bar: False\n",
      "focal_alpha: 0.25\n",
      "focal_gamma: 2\n",
      "optim: adam\n",
      "lr: 0.001\n",
      "weight_decay: 1e-05\n",
      "momentum: 0.9\n",
      "optim_config: fine\n",
      "group_lr: True\n",
      "lr_mult: 1\n",
      "lr_scheduler: reduce_on_plateau\n",
      "lr_decay_steps: 20\n",
      "lr_decay_rate: 0.8\n",
      "lr_decay_min_lr: 1e-06\n",
      "max_steps: -1\n",
      "decay_power: 1\n",
      "warmup_steps: 2\n",
      "load_best: False\n",
      "log_dir: logs\n",
      "patience: 50\n",
      "min_delta: 0.001\n",
      "monitor: val_Metric\n",
      "mode: max\n",
      "eval_freq: 10\n",
      "max_num_nbr: 10\n",
      "radius: 8\n",
      "dmin: 0\n",
      "step: 0.2\n",
      "use_cell_params: True\n",
      "use_extra_fea: False\n",
      "augment: False\n",
      "model_name: att_cgcnn\n",
      "atom_fea_len: 144\n",
      "extra_fea_len: 28\n",
      "h_fea_len: 144\n",
      "n_conv: 4\n",
      "n_h: 8\n",
      "att_S: 64\n",
      "dropout_prob: 0.55\n",
      "att_pooling: False\n",
      "task_norm: True\n",
      "dwa_temp: 2.0\n",
      "dwa_alpha: 0.8\n",
      "atom_layer_norm: True\n",
      "task_att_type: self\n",
      "data_dir: ./CGCNN_MT/data\n",
      "dl_sampler: random\n",
      "loss_aggregation: fixed_weight_sum\n",
      "model_cfg: att_cgcnn\n",
      "max_graph_len: 200\n",
      "reconstruct: False\n",
      "task_cfg: tsd_ssd_ws24\n",
      "pruning: False\n",
      "orig_extra_fea_len: 6\n",
      "orig_atom_fea_len: 92\n",
      "nbr_fea_len: 41\n",
      "strategy: auto\n",
      "Model hyperparameters:////////////////////////////////////////////////////////////\n",
      "Predicting SSD...\n",
      "prop_cols: ['Label']\n"
     ]
    },
    {
     "data": {
      "application/vnd.jupyter.widget-view+json": {
       "model_id": "45599f2ba215411d8e00885165a42ff0",
       "version_major": 2,
       "version_minor": 0
      },
      "text/plain": [
       "Predicting: |          | 0/? [00:00<?, ?it/s]"
      ]
     },
     "metadata": {},
     "output_type": "display_data"
    },
    {
     "name": "stderr",
     "output_type": "stream",
     "text": [
      "/opt/share/miniconda3/envs/mofmthnn/lib/python3.9/site-packages/lightning_fabric/plugins/environments/slurm.py:204: The `srun` command is available on your system but is not used. HINT: If your intention is to run Lightning on SLURM, prepend your python command with `srun` like so: srun python /opt/share/miniconda3/envs/mofmthnn/lib/python3.9/si ...\n",
      "GPU available: True (cuda), used: True\n",
      "TPU available: False, using: 0 TPU cores\n",
      "IPU available: False, using: 0 IPUs\n",
      "HPU available: False, using: 0 HPUs\n",
      "/opt/share/miniconda3/envs/mofmthnn/lib/python3.9/site-packages/lightning_fabric/plugins/environments/slurm.py:204: The `srun` command is available on your system but is not used. HINT: If your intention is to run Lightning on SLURM, prepend your python command with `srun` like so: srun python /opt/share/miniconda3/envs/mofmthnn/lib/python3.9/si ...\n",
      "LOCAL_RANK: 0 - CUDA_VISIBLE_DEVICES: [1]\n"
     ]
    },
    {
     "name": "stdout",
     "output_type": "stream",
     "text": [
      "Metrics saved to CGCNN_MT/evaluation/TSD_SSD_WS24_water_WS24_water4_WS24_acid_WS24_base_WS24_boiling_seed42_att_cgcnn@version_43/val_metrics.csv\n",
      "task_types:  ['regression', 'classification', 'classification', 'classification_4', 'classification', 'classification', 'classification']\n",
      "Model hyperparameters:////////////////////////////////////////////////////////////\n",
      "batch_size: 32\n",
      "num_workers: 2\n",
      "random_seed: 42\n",
      "accelerator: gpu\n",
      "devices: 1\n",
      "max_epochs: 500\n",
      "auto_lr_bs_find: False\n",
      "progress_bar: False\n",
      "focal_alpha: 0.25\n",
      "focal_gamma: 2\n",
      "optim: adam\n",
      "lr: 0.001\n",
      "weight_decay: 1e-05\n",
      "momentum: 0.9\n",
      "optim_config: fine\n",
      "group_lr: True\n",
      "lr_mult: 1\n",
      "lr_scheduler: reduce_on_plateau\n",
      "lr_decay_steps: 20\n",
      "lr_decay_rate: 0.8\n",
      "lr_decay_min_lr: 1e-06\n",
      "max_steps: -1\n",
      "decay_power: 1\n",
      "warmup_steps: 2\n",
      "load_best: False\n",
      "log_dir: logs\n",
      "patience: 50\n",
      "min_delta: 0.001\n",
      "monitor: val_Metric\n",
      "mode: max\n",
      "eval_freq: 10\n",
      "max_num_nbr: 10\n",
      "radius: 8\n",
      "dmin: 0\n",
      "step: 0.2\n",
      "use_cell_params: True\n",
      "use_extra_fea: False\n",
      "augment: False\n",
      "model_name: att_cgcnn\n",
      "atom_fea_len: 144\n",
      "extra_fea_len: 28\n",
      "h_fea_len: 144\n",
      "n_conv: 4\n",
      "n_h: 8\n",
      "att_S: 64\n",
      "dropout_prob: 0.55\n",
      "att_pooling: False\n",
      "task_norm: True\n",
      "dwa_temp: 2.0\n",
      "dwa_alpha: 0.8\n",
      "atom_layer_norm: True\n",
      "task_att_type: self\n",
      "data_dir: ./CGCNN_MT/data\n",
      "dl_sampler: random\n",
      "loss_aggregation: fixed_weight_sum\n",
      "model_cfg: att_cgcnn\n",
      "max_graph_len: 200\n",
      "reconstruct: False\n",
      "task_cfg: tsd_ssd_ws24\n",
      "pruning: False\n",
      "orig_extra_fea_len: 6\n",
      "orig_atom_fea_len: 92\n",
      "nbr_fea_len: 41\n",
      "strategy: auto\n",
      "Model hyperparameters:////////////////////////////////////////////////////////////\n",
      "Predicting WS24_water...\n",
      "prop_cols: ['water_label']\n"
     ]
    },
    {
     "data": {
      "application/vnd.jupyter.widget-view+json": {
       "model_id": "a8bd8e91d2fd44608484f878527db1ab",
       "version_major": 2,
       "version_minor": 0
      },
      "text/plain": [
       "Predicting: |          | 0/? [00:00<?, ?it/s]"
      ]
     },
     "metadata": {},
     "output_type": "display_data"
    },
    {
     "name": "stderr",
     "output_type": "stream",
     "text": [
      "/opt/share/miniconda3/envs/mofmthnn/lib/python3.9/site-packages/lightning_fabric/plugins/environments/slurm.py:204: The `srun` command is available on your system but is not used. HINT: If your intention is to run Lightning on SLURM, prepend your python command with `srun` like so: srun python /opt/share/miniconda3/envs/mofmthnn/lib/python3.9/si ...\n",
      "LOCAL_RANK: 0 - CUDA_VISIBLE_DEVICES: [1]\n"
     ]
    },
    {
     "name": "stdout",
     "output_type": "stream",
     "text": [
      "Predicting WS24_water4...\n",
      "prop_cols: ['water4_label']\n"
     ]
    },
    {
     "data": {
      "application/vnd.jupyter.widget-view+json": {
       "model_id": "d26c20c0117642f695a01203d0464eb7",
       "version_major": 2,
       "version_minor": 0
      },
      "text/plain": [
       "Predicting: |          | 0/? [00:00<?, ?it/s]"
      ]
     },
     "metadata": {},
     "output_type": "display_data"
    },
    {
     "name": "stderr",
     "output_type": "stream",
     "text": [
      "/opt/share/miniconda3/envs/mofmthnn/lib/python3.9/site-packages/lightning_fabric/plugins/environments/slurm.py:204: The `srun` command is available on your system but is not used. HINT: If your intention is to run Lightning on SLURM, prepend your python command with `srun` like so: srun python /opt/share/miniconda3/envs/mofmthnn/lib/python3.9/si ...\n",
      "LOCAL_RANK: 0 - CUDA_VISIBLE_DEVICES: [1]\n"
     ]
    },
    {
     "name": "stdout",
     "output_type": "stream",
     "text": [
      "Predicting WS24_acid...\n",
      "prop_cols: ['acid_label']\n"
     ]
    },
    {
     "data": {
      "application/vnd.jupyter.widget-view+json": {
       "model_id": "95194c6d4fb54003a4d20bed4f07257c",
       "version_major": 2,
       "version_minor": 0
      },
      "text/plain": [
       "Predicting: |          | 0/? [00:00<?, ?it/s]"
      ]
     },
     "metadata": {},
     "output_type": "display_data"
    },
    {
     "name": "stderr",
     "output_type": "stream",
     "text": [
      "/opt/share/miniconda3/envs/mofmthnn/lib/python3.9/site-packages/lightning_fabric/plugins/environments/slurm.py:204: The `srun` command is available on your system but is not used. HINT: If your intention is to run Lightning on SLURM, prepend your python command with `srun` like so: srun python /opt/share/miniconda3/envs/mofmthnn/lib/python3.9/si ...\n",
      "LOCAL_RANK: 0 - CUDA_VISIBLE_DEVICES: [1]\n"
     ]
    },
    {
     "name": "stdout",
     "output_type": "stream",
     "text": [
      "Predicting WS24_base...\n",
      "prop_cols: ['base_label']\n"
     ]
    },
    {
     "data": {
      "application/vnd.jupyter.widget-view+json": {
       "model_id": "8f86afdce235454cb66fd3c1eb15381f",
       "version_major": 2,
       "version_minor": 0
      },
      "text/plain": [
       "Predicting: |          | 0/? [00:00<?, ?it/s]"
      ]
     },
     "metadata": {},
     "output_type": "display_data"
    },
    {
     "name": "stderr",
     "output_type": "stream",
     "text": [
      "/opt/share/miniconda3/envs/mofmthnn/lib/python3.9/site-packages/lightning_fabric/plugins/environments/slurm.py:204: The `srun` command is available on your system but is not used. HINT: If your intention is to run Lightning on SLURM, prepend your python command with `srun` like so: srun python /opt/share/miniconda3/envs/mofmthnn/lib/python3.9/si ...\n",
      "LOCAL_RANK: 0 - CUDA_VISIBLE_DEVICES: [1]\n"
     ]
    },
    {
     "name": "stdout",
     "output_type": "stream",
     "text": [
      "Predicting WS24_boiling...\n",
      "prop_cols: ['boiling_label']\n"
     ]
    },
    {
     "data": {
      "application/vnd.jupyter.widget-view+json": {
       "model_id": "065633f6d6b645548d1beabb6be1918d",
       "version_major": 2,
       "version_minor": 0
      },
      "text/plain": [
       "Predicting: |          | 0/? [00:00<?, ?it/s]"
      ]
     },
     "metadata": {},
     "output_type": "display_data"
    },
    {
     "name": "stdout",
     "output_type": "stream",
     "text": [
      "Metrics saved to CGCNN_MT/evaluation/TSD_SSD_WS24_water_WS24_water4_WS24_acid_WS24_base_WS24_boiling_seed42_att_cgcnn@version_43/val_metrics.csv\n"
     ]
    }
   ],
   "source": [
    "task2models = {\n",
    " 'TSD_SSD_WS24_all_attn': {'Model': 'att_cgcnn',\n",
    "  'Path': './CGCNN_MT/logs/TSD_SSD_WS24_water_WS24_water4_WS24_acid_WS24_base_WS24_boiling_seed42_att_cgcnn/version_43'}}\n",
    "\n",
    "result_dir = Path(\"./CGCNN_MT/evaluation\")\n",
    "\n",
    "tasks = [\n",
    "    \"TSD_SSD_WS24_all_attn\"\n",
    "]\n",
    "model_dirs = [task2models[t] for t in tasks]\n",
    "\n",
    "data_dirs = [\n",
    "    \"./CGCNN_MT/data/TSD\",\n",
    "    \"./CGCNN_MT/data/SSD\", \n",
    "    \"./CGCNN_MT/data/WS24\",\n",
    "]\n",
    "col2tasks = [\n",
    "    {\"Label\": \"TSD\"},\n",
    "    {\"Label\": \"SSD\"},\n",
    "    {\"water_label\": \"WS24_water\", \"water4_label\": \"WS24_water4\", \"acid_label\": \"WS24_acid\", \"base_label\": \"WS24_base\", \"boiling_label\": \"WS24_boiling\"},\n",
    "    ]\n",
    "for task in tasks:\n",
    "    model_dir = task2models[task][\"Path\"]\n",
    "    for col2task, data_dir in zip(col2tasks, data_dirs):\n",
    "        for split in [\"train\", \"val\", \"test\"]:\n",
    "            all_outputs, all_metrics = predict_main(model_dir, data_dir, col2task, split=split, result_dir=result_dir)"
   ]
  },
  {
   "cell_type": "code",
   "execution_count": 6,
   "metadata": {},
   "outputs": [],
   "source": [
    "# log_dir = \"./CGCNN_MT/evaluation/TSD_SSD_WS24_water_WS24_water4_WS24_acid_WS24_base_WS24_boiling_seed42_att_cgcnn@version_142\"\n",
    "log_dir = \"./CGCNN_MT/evaluation/TSD_SSD_WS24_water_WS24_water4_WS24_acid_WS24_base_WS24_boiling_seed42_att_cgcnn@version_43\"\n",
    "log_dir = Path(log_dir)\n",
    "latent_feas = {}\n",
    "targets = {}\n",
    "targets_map = {\n",
    "    \"SSD\": {0: \"unstable\", 1: \"stable\"},\n",
    "    \"WS24_water\": {0: \"unstable\", 1: \"stable\"},\n",
    "    \"WS24_water4\": {0: \"unstable\", 1: \"low kinetic stability\", 2: \"high kinetic stability\", 3: \"thermodynamic stable\"},\n",
    "    \"WS24_acid\": {0: \"unstable\", 1: \"stable\"},\n",
    "    \"WS24_base\": {0: \"unstable\", 1: \"stable\"},\n",
    "    \"WS24_boiling\": {0: \"unstable\", 1: \"stable\"},\n",
    "}\n",
    "for task in [\"TSD\", \"SSD\", \"WS24_water\", \"WS24_water4\", \"WS24_acid\", \"WS24_base\", \"WS24_boiling\"]:\n",
    "    for split in [\n",
    "        'train', \n",
    "        'val', \n",
    "        'test',\n",
    "        # \"external_test\"\n",
    "        ]:\n",
    "        latent_fea = np.load(log_dir / f\"{split}_last_layer_fea_{task}.npz\")\n",
    "        latent_feas[f\"{task}_{split}\"] = latent_fea[list(latent_fea.keys())[0]]\n",
    "        res_df = pd.read_csv(log_dir / f\"{split}_results_{task}.csv\")\n",
    "        # if task == \"TSD\":\n",
    "        #     targets[f\"{task}_{split}\"] = (res_df['GroundTruth'].values > 359).astype(int)\n",
    "        # else:\n",
    "        targets[f\"{task}_{split}\"] = res_df['GroundTruth'].values"
   ]
  },
  {
   "cell_type": "code",
   "execution_count": 7,
   "metadata": {},
   "outputs": [],
   "source": [
    "for task in [\n",
    "    \"TSD\", \"SSD\", \n",
    "    \"WS24_water\", \"WS24_water4\", \n",
    "    \"WS24_acid\", \"WS24_base\", \"WS24_boiling\"\n",
    "    ]:\n",
    "    fig_file= log_dir/f\"{task}_last_layer_tsne_by_targets.png\"\n",
    "    plot_tsne_for_task_by_targets(task, latent_feas, targets, targets_map, fig_file, (8, 6), size=30, alpha=0.6)"
   ]
  },
  {
   "cell_type": "code",
   "execution_count": null,
   "metadata": {},
   "outputs": [],
   "source": []
  }
 ],
 "metadata": {
  "kernelspec": {
   "display_name": "mofmthnn",
   "language": "python",
   "name": "python3"
  },
  "language_info": {
   "codemirror_mode": {
    "name": "ipython",
    "version": 3
   },
   "file_extension": ".py",
   "mimetype": "text/x-python",
   "name": "python",
   "nbconvert_exporter": "python",
   "pygments_lexer": "ipython3",
   "version": "3.9.19"
  }
 },
 "nbformat": 4,
 "nbformat_minor": 2
}
