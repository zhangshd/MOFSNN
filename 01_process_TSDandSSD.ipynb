{
 "cells": [
  {
   "cell_type": "code",
   "execution_count": 2,
   "metadata": {},
   "outputs": [],
   "source": [
    "import pandas as pd\n",
    "import os\n",
    "from pathlib import Path\n",
    "import matplotlib.pyplot as plt\n",
    "from ase.io import read\n",
    "import warnings\n",
    "warnings.filterwarnings(\"ignore\", category=UserWarning, module=\"pymatgen.io.cif\")\n",
    "warnings.filterwarnings(\"ignore\", category=UserWarning, module=\"ase.io.cif\")\n",
    "import multiprocessing as mp\n",
    "from functools import partial"
   ]
  },
  {
   "cell_type": "markdown",
   "metadata": {},
   "source": [
    "## Download CoREMOF2019 database"
   ]
  },
  {
   "cell_type": "code",
   "execution_count": null,
   "metadata": {},
   "outputs": [],
   "source": [
    "## download and extract CoREMOF 2019 dataset from MOFXDB(https://mof.tech.northwestern.edu/databases)\n",
    "!wget https://mof.tech.northwestern.edu/Datasets/CoREMOF%202019-mofdb-version:dc8a0295db.zip -O ./raw_data/CoREMOF_2019-mofdb-version:dc8a0295db.zip\n",
    "!unzip -o ./raw_data/CoREMOF_2019-mofdb-version:dc8a0295db.zip -d ./raw_data/CoREMOF2019"
   ]
  },
  {
   "cell_type": "markdown",
   "metadata": {},
   "source": [
    "## TSD&SSD processing"
   ]
  },
  {
   "cell_type": "code",
   "execution_count": 23,
   "metadata": {},
   "outputs": [],
   "source": [
    "ssd_csv = \"./raw_data/Nandy_2022_SciData/separate_files/solvent_removal_stability/full_SSD_data.csv\"\n",
    "tsd_csv = \"./raw_data/Nandy_2022_SciData/separate_files/thermal_stability/full_TSD_data.csv\"\n",
    "saved_dir = Path(\"./CGCNN_MT/data/\")\n",
    "src_cif_dir = Path(\"./raw_data/CoREMOF2019\")"
   ]
  },
  {
   "cell_type": "code",
   "execution_count": 24,
   "metadata": {},
   "outputs": [
    {
     "name": "stdout",
     "output_type": "stream",
     "text": [
      "(2179, 189)\n",
      "(3132, 189)\n",
      "Index(['CoRE_name', 'refcode', 'doi', 'assigned_solvent_removal_stability',\n",
      "       'ANN_predicted_solvent_removal_stability', 'ANN_prediction_probability',\n",
      "       'ANN_LSE', 'partition', 'Df (Å)', 'Di (Å)',\n",
      "       ...\n",
      "       'D_func-S-1-all', 'D_func-S-2-all', 'D_func-S-3-all',\n",
      "       'explicit_intro_in_paper', 'number_of_sentences_in_paper',\n",
      "       'sentence_indices', 'collapse_keywords', 'solvent_keywords',\n",
      "       'stability_keywords', 'sentences'],\n",
      "      dtype='object', length=189)\n",
      "Index(['CoRE_name', 'refcode', 'doi', 'assigned_T_decomp (°C)',\n",
      "       'ANN_predicted_T_decomp (°C)', 'ANN_LSD_10NN', 'ANN_LSD_10NN_scaled',\n",
      "       'partition', 'Df (Å)', 'Di (Å)',\n",
      "       ...\n",
      "       'D_func-S-1-all', 'D_func-S-2-all', 'D_func-S-3-all', 'TGA_points_T',\n",
      "       'TGA_points_mass', 'explicit_intro_in_paper',\n",
      "       'number_of_sentences_in_paper', 'sentence_indices', 'keywords',\n",
      "       'sentences'],\n",
      "      dtype='object', length=189)\n"
     ]
    },
    {
     "data": {
      "text/html": [
       "<div>\n",
       "<style scoped>\n",
       "    .dataframe tbody tr th:only-of-type {\n",
       "        vertical-align: middle;\n",
       "    }\n",
       "\n",
       "    .dataframe tbody tr th {\n",
       "        vertical-align: top;\n",
       "    }\n",
       "\n",
       "    .dataframe thead th {\n",
       "        text-align: right;\n",
       "    }\n",
       "</style>\n",
       "<table border=\"1\" class=\"dataframe\">\n",
       "  <thead>\n",
       "    <tr style=\"text-align: right;\">\n",
       "      <th></th>\n",
       "      <th>CoRE_name</th>\n",
       "      <th>refcode</th>\n",
       "      <th>doi</th>\n",
       "      <th>assigned_solvent_removal_stability</th>\n",
       "      <th>ANN_predicted_solvent_removal_stability</th>\n",
       "      <th>ANN_prediction_probability</th>\n",
       "      <th>ANN_LSE</th>\n",
       "      <th>partition</th>\n",
       "      <th>Df (Å)</th>\n",
       "      <th>Di (Å)</th>\n",
       "      <th>...</th>\n",
       "      <th>D_func-S-1-all</th>\n",
       "      <th>D_func-S-2-all</th>\n",
       "      <th>D_func-S-3-all</th>\n",
       "      <th>explicit_intro_in_paper</th>\n",
       "      <th>number_of_sentences_in_paper</th>\n",
       "      <th>sentence_indices</th>\n",
       "      <th>collapse_keywords</th>\n",
       "      <th>solvent_keywords</th>\n",
       "      <th>stability_keywords</th>\n",
       "      <th>sentences</th>\n",
       "    </tr>\n",
       "  </thead>\n",
       "  <tbody>\n",
       "    <tr>\n",
       "      <th>0</th>\n",
       "      <td>ABAVIJ_clean</td>\n",
       "      <td>ABAVIJ</td>\n",
       "      <td>10.1039/b404485a</td>\n",
       "      <td>1.0</td>\n",
       "      <td>1.0</td>\n",
       "      <td>0.943282</td>\n",
       "      <td>0.001705</td>\n",
       "      <td>train</td>\n",
       "      <td>2.49720</td>\n",
       "      <td>4.45543</td>\n",
       "      <td>...</td>\n",
       "      <td>0.000000</td>\n",
       "      <td>0.000000</td>\n",
       "      <td>0.00</td>\n",
       "      <td>True</td>\n",
       "      <td>176.0</td>\n",
       "      <td>[60, 66]</td>\n",
       "      <td>[None, None]</td>\n",
       "      <td>[['desolv'], ['solvate', 'desolv', 'lose']]</td>\n",
       "      <td>[['retain'], ['retain']]</td>\n",
       "      <td>['Single crystals of 1 appeared to retain thei...</td>\n",
       "    </tr>\n",
       "    <tr>\n",
       "      <th>1</th>\n",
       "      <td>ABAYIO_clean</td>\n",
       "      <td>ABAYIO</td>\n",
       "      <td>10.1021/acs.cgd.6b00776</td>\n",
       "      <td>1.0</td>\n",
       "      <td>1.0</td>\n",
       "      <td>0.920237</td>\n",
       "      <td>0.001713</td>\n",
       "      <td>train</td>\n",
       "      <td>4.31822</td>\n",
       "      <td>11.38838</td>\n",
       "      <td>...</td>\n",
       "      <td>0.000000</td>\n",
       "      <td>0.000000</td>\n",
       "      <td>0.00</td>\n",
       "      <td>True</td>\n",
       "      <td>359.0</td>\n",
       "      <td>[142, 143]</td>\n",
       "      <td>[None, None]</td>\n",
       "      <td>[['remov', 'water'], ['activat']]</td>\n",
       "      <td>[['porosity'], [' stable']]</td>\n",
       "      <td>['The porosity of 1 calculated by PLATON(31) i...</td>\n",
       "    </tr>\n",
       "    <tr>\n",
       "      <th>2</th>\n",
       "      <td>ABESUX_clean</td>\n",
       "      <td>ABESUX</td>\n",
       "      <td>10.1021/ic200345j</td>\n",
       "      <td>1.0</td>\n",
       "      <td>1.0</td>\n",
       "      <td>0.926693</td>\n",
       "      <td>0.001737</td>\n",
       "      <td>train</td>\n",
       "      <td>4.42071</td>\n",
       "      <td>5.87733</td>\n",
       "      <td>...</td>\n",
       "      <td>0.000000</td>\n",
       "      <td>0.000000</td>\n",
       "      <td>0.00</td>\n",
       "      <td>True</td>\n",
       "      <td>379.0</td>\n",
       "      <td>[159, 167, 268, 156]</td>\n",
       "      <td>[None, None, None, None]</td>\n",
       "      <td>[['diamine'], ['diamine'], ['diamine'], ['H2O'...</td>\n",
       "      <td>[[' stable'], ['stability'], [' stable'], [' s...</td>\n",
       "      <td>['(24-28) It is noteworthy that in our neutral...</td>\n",
       "    </tr>\n",
       "    <tr>\n",
       "      <th>3</th>\n",
       "      <td>ABETAE_clean</td>\n",
       "      <td>ABETAE</td>\n",
       "      <td>10.1021/ic200345j</td>\n",
       "      <td>1.0</td>\n",
       "      <td>1.0</td>\n",
       "      <td>0.926645</td>\n",
       "      <td>0.001737</td>\n",
       "      <td>train</td>\n",
       "      <td>4.42278</td>\n",
       "      <td>5.88004</td>\n",
       "      <td>...</td>\n",
       "      <td>0.000000</td>\n",
       "      <td>0.000000</td>\n",
       "      <td>0.00</td>\n",
       "      <td>True</td>\n",
       "      <td>379.0</td>\n",
       "      <td>[159, 167, 268, 156]</td>\n",
       "      <td>[None, None, None, None]</td>\n",
       "      <td>[['diamine'], ['diamine'], ['diamine'], ['H2O'...</td>\n",
       "      <td>[[' stable'], ['stability'], [' stable'], [' s...</td>\n",
       "      <td>['(24-28) It is noteworthy that in our neutral...</td>\n",
       "    </tr>\n",
       "    <tr>\n",
       "      <th>4</th>\n",
       "      <td>ABEXEM_clean</td>\n",
       "      <td>ABEXEM</td>\n",
       "      <td>10.1021/ic201013v</td>\n",
       "      <td>0.0</td>\n",
       "      <td>0.0</td>\n",
       "      <td>0.089531</td>\n",
       "      <td>0.001667</td>\n",
       "      <td>train</td>\n",
       "      <td>4.14331</td>\n",
       "      <td>4.82084</td>\n",
       "      <td>...</td>\n",
       "      <td>-0.013333</td>\n",
       "      <td>-0.013333</td>\n",
       "      <td>-0.02</td>\n",
       "      <td>True</td>\n",
       "      <td>646.0</td>\n",
       "      <td>[128, 191]</td>\n",
       "      <td>[['collaps'], ['amorph']]</td>\n",
       "      <td>[['remov'], ['water']]</td>\n",
       "      <td>[None, [' stable', 'crystallinity']]</td>\n",
       "      <td>['The single crystals of 2-Ln suffer a progres...</td>\n",
       "    </tr>\n",
       "  </tbody>\n",
       "</table>\n",
       "<p>5 rows × 189 columns</p>\n",
       "</div>"
      ],
      "text/plain": [
       "      CoRE_name refcode                      doi  \\\n",
       "0  ABAVIJ_clean  ABAVIJ         10.1039/b404485a   \n",
       "1  ABAYIO_clean  ABAYIO  10.1021/acs.cgd.6b00776   \n",
       "2  ABESUX_clean  ABESUX        10.1021/ic200345j   \n",
       "3  ABETAE_clean  ABETAE        10.1021/ic200345j   \n",
       "4  ABEXEM_clean  ABEXEM        10.1021/ic201013v   \n",
       "\n",
       "   assigned_solvent_removal_stability  \\\n",
       "0                                 1.0   \n",
       "1                                 1.0   \n",
       "2                                 1.0   \n",
       "3                                 1.0   \n",
       "4                                 0.0   \n",
       "\n",
       "   ANN_predicted_solvent_removal_stability  ANN_prediction_probability  \\\n",
       "0                                      1.0                    0.943282   \n",
       "1                                      1.0                    0.920237   \n",
       "2                                      1.0                    0.926693   \n",
       "3                                      1.0                    0.926645   \n",
       "4                                      0.0                    0.089531   \n",
       "\n",
       "    ANN_LSE partition   Df (Å)    Di (Å)  ...  D_func-S-1-all  D_func-S-2-all  \\\n",
       "0  0.001705     train  2.49720   4.45543  ...        0.000000        0.000000   \n",
       "1  0.001713     train  4.31822  11.38838  ...        0.000000        0.000000   \n",
       "2  0.001737     train  4.42071   5.87733  ...        0.000000        0.000000   \n",
       "3  0.001737     train  4.42278   5.88004  ...        0.000000        0.000000   \n",
       "4  0.001667     train  4.14331   4.82084  ...       -0.013333       -0.013333   \n",
       "\n",
       "   D_func-S-3-all  explicit_intro_in_paper  number_of_sentences_in_paper  \\\n",
       "0            0.00                     True                         176.0   \n",
       "1            0.00                     True                         359.0   \n",
       "2            0.00                     True                         379.0   \n",
       "3            0.00                     True                         379.0   \n",
       "4           -0.02                     True                         646.0   \n",
       "\n",
       "       sentence_indices          collapse_keywords  \\\n",
       "0              [60, 66]               [None, None]   \n",
       "1            [142, 143]               [None, None]   \n",
       "2  [159, 167, 268, 156]   [None, None, None, None]   \n",
       "3  [159, 167, 268, 156]   [None, None, None, None]   \n",
       "4            [128, 191]  [['collaps'], ['amorph']]   \n",
       "\n",
       "                                    solvent_keywords  \\\n",
       "0        [['desolv'], ['solvate', 'desolv', 'lose']]   \n",
       "1                  [['remov', 'water'], ['activat']]   \n",
       "2  [['diamine'], ['diamine'], ['diamine'], ['H2O'...   \n",
       "3  [['diamine'], ['diamine'], ['diamine'], ['H2O'...   \n",
       "4                             [['remov'], ['water']]   \n",
       "\n",
       "                                  stability_keywords  \\\n",
       "0                           [['retain'], ['retain']]   \n",
       "1                        [['porosity'], [' stable']]   \n",
       "2  [[' stable'], ['stability'], [' stable'], [' s...   \n",
       "3  [[' stable'], ['stability'], [' stable'], [' s...   \n",
       "4               [None, [' stable', 'crystallinity']]   \n",
       "\n",
       "                                           sentences  \n",
       "0  ['Single crystals of 1 appeared to retain thei...  \n",
       "1  ['The porosity of 1 calculated by PLATON(31) i...  \n",
       "2  ['(24-28) It is noteworthy that in our neutral...  \n",
       "3  ['(24-28) It is noteworthy that in our neutral...  \n",
       "4  ['The single crystals of 2-Ln suffer a progres...  \n",
       "\n",
       "[5 rows x 189 columns]"
      ]
     },
     "execution_count": 24,
     "metadata": {},
     "output_type": "execute_result"
    }
   ],
   "source": [
    "df_ssd = pd.read_csv(ssd_csv)\n",
    "df_tsd = pd.read_csv(tsd_csv)\n",
    "df_ssd.dropna(inplace=True)\n",
    "df_tsd.dropna(inplace=True)\n",
    "print(df_ssd.shape)\n",
    "print(df_tsd.shape)\n",
    "print(df_ssd.columns)\n",
    "print(df_tsd.columns)\n",
    "df_ssd.head()"
   ]
  },
  {
   "cell_type": "code",
   "execution_count": 25,
   "metadata": {},
   "outputs": [],
   "source": [
    "select_cols1 = [\"CoRE_name\", \"assigned_solvent_removal_stability\", \"partition\"]\n",
    "select_cols2 = [\"CoRE_name\", \"assigned_T_decomp (°C)\", \"partition\"]\n",
    "feat_cols = df_ssd.loc[:, \"Df (Å)\":\"D_func-S-3-all\"].columns.tolist()\n",
    "std_cols = [\"MofName\", \"Label\", \"Partition\"] + feat_cols\n",
    "df_ssd = df_ssd[select_cols1 + feat_cols]\n",
    "df_ssd.columns = std_cols\n",
    "df_tsd = df_tsd[select_cols2 + feat_cols]\n",
    "df_tsd.columns = std_cols"
   ]
  },
  {
   "cell_type": "code",
   "execution_count": 26,
   "metadata": {},
   "outputs": [
    {
     "data": {
      "text/plain": [
       "array(['train', 'val', 'test'], dtype=object)"
      ]
     },
     "execution_count": 26,
     "metadata": {},
     "output_type": "execute_result"
    }
   ],
   "source": [
    "df_tsd[\"Partition\"].unique()"
   ]
  },
  {
   "cell_type": "code",
   "execution_count": 27,
   "metadata": {},
   "outputs": [
    {
     "name": "stdout",
     "output_type": "stream",
     "text": [
      "12020\n",
      "2179\n",
      "3132\n",
      "2179\n",
      "3132\n"
     ]
    }
   ],
   "source": [
    "all_cifs = src_cif_dir.glob('*.cif')\n",
    "all_cif_names = [cif.stem for cif in all_cifs]\n",
    "\n",
    "print(len(all_cif_names))\n",
    "\n",
    "print(len(df_ssd))\n",
    "print(len(df_tsd))\n",
    "\n",
    "print(df_ssd['MofName'].isin(all_cif_names).sum())\n",
    "print(df_tsd['MofName'].isin(all_cif_names).sum())\n"
   ]
  },
  {
   "cell_type": "code",
   "execution_count": 28,
   "metadata": {},
   "outputs": [
    {
     "name": "stdout",
     "output_type": "stream",
     "text": [
      "0/2179\n",
      "500/2179\n",
      "1000/2179\n",
      "1500/2179\n",
      "2000/2179\n"
     ]
    },
    {
     "data": {
      "image/png": "[encoded data removed]",
      "text/plain": [
       "<Figure size 640x480 with 1 Axes>"
      ]
     },
     "metadata": {},
     "output_type": "display_data"
    },
    {
     "name": "stdout",
     "output_type": "stream",
     "text": [
      "0/3132\n",
      "500/3132\n",
      "1000/3132\n",
      "1500/3132\n",
      "2000/3132\n",
      "2500/3132\n",
      "3000/3132\n"
     ]
    },
    {
     "data": {
      "image/png": "[encoded data removed]",
      "text/plain": [
       "<Figure size 640x480 with 1 Axes>"
      ]
     },
     "metadata": {},
     "output_type": "display_data"
    }
   ],
   "source": [
    "def get_atom_num(cif_file):\n",
    "    atoms = read(cif_file)\n",
    "    return len(atoms)\n",
    "\n",
    "for df, task in zip([df_ssd, df_tsd], [\"SSD\", \"TSD\"]):\n",
    "    task_dir =saved_dir/task\n",
    "    cif_dir = task_dir/\"cifs\"\n",
    "    # cif_dir.mkdir(exist_ok=True, parents=True)\n",
    "    df.to_csv(task_dir/\"id_prop_feat.csv\", index=False)\n",
    "    for i, row in df.iterrows():\n",
    "        cif_file = str(cif_dir/f\"{row['MofName']}.cif\")\n",
    "        src_cif_file = str(src_cif_dir/f\"{row['MofName']}.cif\")\n",
    "        # shutil.copyfile(src_cif_file, cif_file)\n",
    "        ## clean cif file\n",
    "        # overlap_removal(src_cif_file, cif_file) # Input CIF should have P1 symmetry.\n",
    "        # solvent_removal(cif_file, cif_file)\n",
    "        if i%500==0:\n",
    "            print(f\"{i}/{len(df)}\")\n",
    "    \n",
    "    with mp.Pool(processes=48) as pool:\n",
    "        atom_num_list = pool.map(get_atom_num, cif_dir.glob(\"*.cif\"))\n",
    "\n",
    "    plt.hist(atom_num_list, bins=100)\n",
    "    plt.xlabel('Number of atoms')\n",
    "    plt.ylabel('Frequency')\n",
    "    plt.title(f\"Histogram of number of atoms in {task} dataset\")\n",
    "    plt.show()"
   ]
  },
  {
   "cell_type": "code",
   "execution_count": 19,
   "metadata": {},
   "outputs": [
    {
     "data": {
      "image/png": "[encoded data removed]",
      "text/plain": [
       "<Figure size 640x480 with 1 Axes>"
      ]
     },
     "metadata": {},
     "output_type": "display_data"
    }
   ],
   "source": [
    "plt.hist(df_tsd['Label'], bins=100)\n",
    "plt.show()"
   ]
  },
  {
   "cell_type": "code",
   "execution_count": 20,
   "metadata": {},
   "outputs": [
    {
     "data": {
      "image/png": "[encoded data removed]",
      "text/plain": [
       "<Figure size 640x480 with 1 Axes>"
      ]
     },
     "metadata": {},
     "output_type": "display_data"
    }
   ],
   "source": [
    "plt.hist(df_ssd['Label'], bins=100)\n",
    "plt.show()"
   ]
  },
  {
   "cell_type": "markdown",
   "metadata": {},
   "source": [
    "### Reneragete zeo++ and RACs features for TSD and SSS datasets."
   ]
  },
  {
   "cell_type": "code",
   "execution_count": null,
   "metadata": {},
   "outputs": [],
   "source": [
    "from CGCNN_MT.datamodule import clean_cif\n",
    "import subprocess\n",
    "\n",
    "## clean cifs\n",
    "for task in  [\"SSD\", \"TSD\"]:\n",
    "    task_dir =saved_dir/task\n",
    "    cif_dir = task_dir/\"cifs\"\n",
    "    output_dir = task_dir/\"clean_cifs\"\n",
    "    clean_cif.main(cif_dir, output_dir, log_file=task_dir/\"clean_cif.log\", santize=True, n_cpus=1)\n",
    "\n",
    "## generate features\n",
    "for task in  [\"SSD\", \"TSD\"]:\n",
    "    task_dir =saved_dir/task\n",
    "    clean_cif_dir = task_dir/\"clean_cifs\"\n",
    "    output_dir = task_dir/\"features\"\n",
    "    work_dir = Path(\"./ML/featuring\")\n",
    "    process = subprocess.Popen(\n",
    "        f\"python {work_dir/'feature_generation.py'} --cif_dir {clean_cif_dir} --prob_radius 1.86\",\n",
    "        stdout=subprocess.PIPE,\n",
    "        stderr=subprocess.PIPE,\n",
    "        shell=True,\n",
    "        env=os.environ.copy(),\n",
    "        cwd=str(work_dir)\n",
    "    )"
   ]
  },
  {
   "cell_type": "code",
   "execution_count": 21,
   "metadata": {},
   "outputs": [
    {
     "name": "stdout",
     "output_type": "stream",
     "text": [
      "(2178, 192)\n",
      "(3131, 192)\n",
      "(2179, 177)\n",
      "(3132, 177)\n",
      "(2178, 193)\n",
      "(3131, 193)\n"
     ]
    }
   ],
   "source": [
    "## merge with id_prop_feat.csv\n",
    "df_ssd_new = pd.read_csv('./CGCNN_MT/data/SSD/RAC_and_zeo_features.csv')\n",
    "df_tsd_new = pd.read_csv('./CGCNN_MT/data/TSD/RAC_and_zeo_features.csv')\n",
    "\n",
    "print(df_ssd_new.shape)\n",
    "print(df_tsd_new.shape)\n",
    "\n",
    "df_ssd = pd.read_csv('./CGCNN_MT/data/SSD/id_prop_feat.csv')\n",
    "df_tsd = pd.read_csv('./CGCNN_MT/data/TSD/id_prop_feat.csv')\n",
    "\n",
    "print(df_ssd.shape)\n",
    "print(df_tsd.shape)\n",
    "\n",
    "df_ssd_new.drop(columns=['cif_file'], inplace=True)\n",
    "df_tsd_new.drop(columns=['cif_file'], inplace=True)\n",
    "df_ssd_new.rename(columns={'name': 'MofName'}, inplace=True)\n",
    "df_tsd_new.rename(columns={'name': 'MofName'}, inplace=True)\n",
    "\n",
    "df_ssd_new = df_ssd[[\"MofName\", \"Label\", \"Partition\"]].merge(df_ssd_new, on=\"MofName\", how=\"right\")\n",
    "df_tsd_new = df_tsd[[\"MofName\", \"Label\", \"Partition\"]].merge(df_tsd_new, on=\"MofName\", how=\"right\")\n",
    "\n",
    "df_ssd_new.to_csv('./CGCNN_MT/data/SSD/RAC_and_zeo_features_with_id_prop.csv', index=False)\n",
    "df_tsd_new.to_csv('./CGCNN_MT/data/TSD/RAC_and_zeo_features_with_id_prop.csv', index=False)\n",
    "\n",
    "print(df_ssd_new.shape)\n",
    "print(df_tsd_new.shape)"
   ]
  },
  {
   "cell_type": "code",
   "execution_count": null,
   "metadata": {},
   "outputs": [],
   "source": []
  },
  {
   "cell_type": "markdown",
   "metadata": {},
   "source": [
    "## prepare graph data"
   ]
  },
  {
   "cell_type": "code",
   "execution_count": 21,
   "metadata": {},
   "outputs": [],
   "source": [
    "from CGCNN_MT.datamodule.prepare_data import make_prepared_data\n",
    "from tqdm import tqdm\n",
    "import warnings\n",
    "warnings.filterwarnings(\"ignore\", category=UserWarning, module=\"pymatgen.io.cif\")"
   ]
  },
  {
   "cell_type": "code",
   "execution_count": null,
   "metadata": {},
   "outputs": [],
   "source": [
    "## generate features\n",
    "for task in  [\"SSD\", \"TSD\"]:\n",
    "    task_dir =saved_dir/task\n",
    "    clean_cif_dir = task_dir/\"clean_cifs\"\n",
    "    with mp.Pool(processes=32) as pool:\n",
    "        pool.map(partial(make_prepared_data, root_dataset_total=clean_cif_dir, radius=8, max_num_nbr=10), clean_cif_dir.glob(\"*.cif\"))\n",
    "        for cif_file in tqdm(list(clean_cif_dir.glob(\"*.cif\"))):\n",
    "            g_file_name = cif_file.stem + \".graphdata\"\n",
    "            if (clean_cif_dir/g_file_name).exists():\n",
    "                continue\n",
    "            else:\n",
    "                flag = make_prepared_data(cif_file, clean_cif_dir, radius=8, max_num_nbr=10)\n",
    "                if not flag:\n",
    "                    print(f\"Failed to generate graph data for {cif_file}\")\n",
    "                    continue"
   ]
  },
  {
   "cell_type": "code",
   "execution_count": null,
   "metadata": {},
   "outputs": [],
   "source": []
  }
 ],
 "metadata": {
  "kernelspec": {
   "display_name": "mofmthnn",
   "language": "python",
   "name": "python3"
  },
  "language_info": {
   "codemirror_mode": {
    "name": "ipython",
    "version": 3
   },
   "file_extension": ".py",
   "mimetype": "text/x-python",
   "name": "python",
   "nbconvert_exporter": "python",
   "pygments_lexer": "ipython3",
   "version": "3.9.19"
  }
 },
 "nbformat": 4,
 "nbformat_minor": 2
}
